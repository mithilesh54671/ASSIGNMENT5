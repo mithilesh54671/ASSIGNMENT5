{
 "cells": [
  {
   "cell_type": "markdown",
   "id": "702c4eec-1cf4-4523-aa86-31e929db7d6e",
   "metadata": {},
   "source": [
    "Q1, Create a vehicle class with an init method having instance variables as name_of_vehicle, max_speed\n",
    "and average_of_vehicle."
   ]
  },
  {
   "cell_type": "code",
   "execution_count": 9,
   "id": "e6b2d04d-0ca8-4281-ae62-c5f119744bd9",
   "metadata": {},
   "outputs": [
    {
     "name": "stdout",
     "output_type": "stream",
     "text": [
      "('swift', 120, 25)\n"
     ]
    }
   ],
   "source": [
    "class vehicle1:\n",
    "    def __init__(self, name_of_vehicle, max_speed, average_of_vehicle):\n",
    "        self.name_of_vehicle = name_of_vehicle\n",
    "        self.max_speed = max_speed\n",
    "        self.average_of_vehicle = average_of_vehicle\n",
    "\n",
    "    def return_vehicle_details(self):\n",
    "        return self.name_of_vehicle, self.max_speed, self.average_of_vehicle\n",
    "\n",
    "car = vehicle1(\"swift\", 120, 25)\n",
    "print(car.return_vehicle_details())"
   ]
  },
  {
   "cell_type": "markdown",
   "id": "837ccbbc-5326-46e2-9ca3-76e622c28c6e",
   "metadata": {},
   "source": [
    "Q2. Create a child class car from the vehicle class created in Que 1, which will inherit the vehicle class.\n",
    "Create a method named seating_capacity which takes capacity as an argument and returns the name of\n",
    "the vehicle and its seating capacity."
   ]
  },
  {
   "cell_type": "code",
   "execution_count": 24,
   "id": "8f309dc3-9aa6-4836-a87d-685d557a6af8",
   "metadata": {},
   "outputs": [
    {
     "name": "stdout",
     "output_type": "stream",
     "text": [
      "('swift', 4)\n"
     ]
    }
   ],
   "source": [
    "class child1:\n",
    "    def __init__(self, name ,seating_capacity):\n",
    "        self.name = name\n",
    "        self.seating_capacity = seating_capacity\n",
    "        \n",
    "    def return_child_details(self):\n",
    "        return self.name , self.seating_capacity\n",
    "    \n",
    "mithi = child1(\"swift\" , 4)\n",
    "print(mithi.return_child_details())"
   ]
  },
  {
   "cell_type": "code",
   "execution_count": 20,
   "id": "b063589b-8e30-4e1a-a61a-56291fdceeea",
   "metadata": {},
   "outputs": [
    {
     "name": "stdout",
     "output_type": "stream",
     "text": [
      "('swift', 4)\n"
     ]
    }
   ],
   "source": [
    "class child1:\n",
    "    def __init__(self, name, seating_capacity):\n",
    "        self.name = name\n",
    "        self.seating_capacity = seating_capacity\n",
    "\n",
    "    def return_child_details(self):\n",
    "        return self.name, self.seating_capacity\n",
    "\n",
    "mithi = child1(\"swift\", 4)\n",
    "print(mithi.return_child_details())"
   ]
  },
  {
   "cell_type": "markdown",
   "id": "888c805a-75ea-46ef-8873-bcfb99d9f4b8",
   "metadata": {},
   "source": [
    "Q3. What is multiple inheritance? Write a python code to demonstrate multiple inheritance."
   ]
  },
  {
   "cell_type": "code",
   "execution_count": 1,
   "id": "3920a3a4-2d20-4ba4-b222-58d71ddc30a2",
   "metadata": {},
   "outputs": [],
   "source": [
    "class test:\n",
    "    def test_meth(self):\n",
    "        return \"this is a meth from class1\""
   ]
  },
  {
   "cell_type": "code",
   "execution_count": 2,
   "id": "01897a80-5e31-4a65-a220-181d0e30fa82",
   "metadata": {},
   "outputs": [],
   "source": [
    "class child_test(test):\n",
    "    pass"
   ]
  },
  {
   "cell_type": "code",
   "execution_count": 3,
   "id": "02b14e5f-5873-4007-bb2e-a313c06340ba",
   "metadata": {},
   "outputs": [],
   "source": [
    "child_test_obj = child_test()"
   ]
  },
  {
   "cell_type": "code",
   "execution_count": 4,
   "id": "40dca263-437f-44fb-bdf5-8381039b99a4",
   "metadata": {},
   "outputs": [
    {
     "data": {
      "text/plain": [
       "'this is a meth from class1'"
      ]
     },
     "execution_count": 4,
     "metadata": {},
     "output_type": "execute_result"
    }
   ],
   "source": [
    "child_test_obj.test_meth()"
   ]
  },
  {
   "cell_type": "markdown",
   "id": "0cd66874-0731-4197-b9bd-73106e60ec7c",
   "metadata": {},
   "source": [
    "Q4. What are getter and setter in python? Create a class and create a getter and a setter method in this\n",
    "class."
   ]
  },
  {
   "cell_type": "code",
   "execution_count": 5,
   "id": "4bef174c-eb86-41cb-bb3e-128146f45aac",
   "metadata": {},
   "outputs": [],
   "source": [
    "class label:\n",
    "    def __init__(self, text, font):\n",
    "        self._text = text\n",
    "        self._font = font\n",
    "        \n",
    "    def get_text(self):\n",
    "        return self._text\n",
    "    \n",
    "    def set_text(self , value):\n",
    "        self._text = value\n",
    "        \n",
    "    def get_font(self):\n",
    "        return self._font\n",
    "    \n",
    "    def set_font(self , value):\n",
    "        self._font = value\n",
    "        \n",
    "    "
   ]
  },
  {
   "cell_type": "markdown",
   "id": "66bb0347-2363-45d6-8179-39707df2d09f",
   "metadata": {},
   "source": []
  },
  {
   "cell_type": "markdown",
   "id": "21cb2fbc-2b21-4043-85f9-8b6a38e9d39d",
   "metadata": {},
   "source": [
    "Q5.What is method overriding in python? Write a python code to demonstrate method overriding."
   ]
  },
  {
   "cell_type": "code",
   "execution_count": 8,
   "id": "dcfc9c34-8539-4ab8-9d26-dd092595b1d7",
   "metadata": {},
   "outputs": [
    {
     "ename": "TypeError",
     "evalue": "str() argument 'encoding' must be str, not tuple",
     "output_type": "error",
     "traceback": [
      "\u001b[0;31m---------------------------------------------------------------------------\u001b[0m",
      "\u001b[0;31mTypeError\u001b[0m                                 Traceback (most recent call last)",
      "Cell \u001b[0;32mIn[8], line 1\u001b[0m\n\u001b[0;32m----> 1\u001b[0m \u001b[38;5;28;01mclass\u001b[39;00m \u001b[38;5;21;01msquare\u001b[39;00m(\u001b[38;5;124m\"\u001b[39m\u001b[38;5;124mshape\u001b[39m\u001b[38;5;124m\"\u001b[39m):\n\u001b[1;32m      2\u001b[0m     data2 \u001b[38;5;241m=\u001b[39m \u001b[38;5;124m\"\u001b[39m\u001b[38;5;124mxyz\u001b[39m\u001b[38;5;124m\"\u001b[39m\n\u001b[1;32m      4\u001b[0m     \u001b[38;5;28;01mdef\u001b[39;00m \u001b[38;5;21mno_of_sides\u001b[39m(\u001b[38;5;28mself\u001b[39m):\n",
      "\u001b[0;31mTypeError\u001b[0m: str() argument 'encoding' must be str, not tuple"
     ]
    }
   ],
   "source": [
    "class square(shape):\n",
    "    data2 = \"xyz\"\n",
    "    \n",
    "    def no_of_sides(self):\n",
    "        print(\"i have 4 sides. i am from square class\")\n",
    "        \n",
    "    def color(self):\n",
    "        print(\"i have teal color. i am from square class.\")"
   ]
  },
  {
   "cell_type": "code",
   "execution_count": null,
   "id": "3315400d-60ab-4a3d-9918-51c60f110183",
   "metadata": {},
   "outputs": [],
   "source": []
  }
 ],
 "metadata": {
  "kernelspec": {
   "display_name": "Python 3 (ipykernel)",
   "language": "python",
   "name": "python3"
  },
  "language_info": {
   "codemirror_mode": {
    "name": "ipython",
    "version": 3
   },
   "file_extension": ".py",
   "mimetype": "text/x-python",
   "name": "python",
   "nbconvert_exporter": "python",
   "pygments_lexer": "ipython3",
   "version": "3.10.8"
  }
 },
 "nbformat": 4,
 "nbformat_minor": 5
}
